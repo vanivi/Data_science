{
 "cells": [
  {
   "cell_type": "markdown",
   "id": "c1283550",
   "metadata": {},
   "source": [
    "INFO6105 Data Science Engineering and Tools\n",
    "\n",
    "Vidhi Patel\n",
    "NUID: 002762999\n",
    "HW2"
   ]
  },
  {
   "cell_type": "markdown",
   "id": "3ee93577",
   "metadata": {},
   "source": [
    "1. Convert the list of 26 letters of the alphabet to the index of the Dataframe, and assign 26 random integer numbers and print out the first 5 rows. "
   ]
  },
  {
   "cell_type": "code",
   "execution_count": 1,
   "id": "c6a51b20",
   "metadata": {},
   "outputs": [],
   "source": [
    "import pandas as pd\n",
    "import numpy as np"
   ]
  },
  {
   "cell_type": "code",
   "execution_count": 2,
   "id": "39c2d82f",
   "metadata": {},
   "outputs": [
    {
     "name": "stdout",
     "output_type": "stream",
     "text": [
      "   integer\n",
      "A       52\n",
      "B       49\n",
      "C       70\n",
      "D       79\n",
      "E       76\n"
     ]
    }
   ],
   "source": [
    "alphabet = list(\"ABCDEFGHIJKLMNOPQRSTUVWXYZ\")\n",
    "df = pd.DataFrame(index=alphabet)\n",
    "\n",
    "df['integer'] = np.random.randint(1, 100, size=len(alphabet))\n",
    "\n",
    "print(df.head())"
   ]
  },
  {
   "cell_type": "markdown",
   "id": "220125ac",
   "metadata": {},
   "source": [
    "2. Construct the following DataFrame and print it out. Use \"iloc\" to convert the first column of this DataFrame as a Series.  "
   ]
  },
  {
   "cell_type": "code",
   "execution_count": 3,
   "id": "87d971ea",
   "metadata": {},
   "outputs": [
    {
     "name": "stdout",
     "output_type": "stream",
     "text": [
      "DataFrame: \n",
      "   class 1  class 2  class 3\n",
      "0        1        4        7\n",
      "1        2        5        5\n",
      "2        3        6        8\n",
      "3        4        9       12\n",
      "4        7        5        1\n",
      "5       11        0       11\n",
      "\n",
      "Series from first column:\n",
      "0     1\n",
      "1     2\n",
      "2     3\n",
      "3     4\n",
      "4     7\n",
      "5    11\n",
      "Name: class 1, dtype: int64\n"
     ]
    }
   ],
   "source": [
    "data = {\n",
    "    'class 1': [1,2,3,4,7,11], \n",
    "    'class 2': [4,5,6,9,5,0],\n",
    "    'class 3': [7,5,8,12,1,11]\n",
    "}\n",
    "\n",
    "df = pd.DataFrame(data)\n",
    "print(\"DataFrame: \")\n",
    "print(df)\n",
    "\n",
    "series = df.iloc[:, 0]\n",
    "print(\"\\nSeries from first column:\")\n",
    "print(series)"
   ]
  },
  {
   "cell_type": "markdown",
   "id": "355281c3",
   "metadata": {},
   "source": [
    "3. Work on the above data (question 2), implement the following tasks using indexers loc and/or iloc:   \n",
    "    (1) Select all columns, except one given column 'class3', and print out the result.\n",
    "\n",
    "    (2) Remove first 3 rows of the DataFrame and print it out.\n",
    "\n",
    "    (3) Remove last 3 rows of the DataFrame and print it out."
   ]
  },
  {
   "cell_type": "code",
   "execution_count": 4,
   "id": "89556ef2",
   "metadata": {},
   "outputs": [
    {
     "name": "stdout",
     "output_type": "stream",
     "text": [
      "\n",
      "Task 1: Select all columns, except 'class3'\n",
      "   class1  class2\n",
      "0       1       4\n",
      "1       2       5\n",
      "2       3       6\n",
      "3       4       9\n",
      "4       7       5\n",
      "5      11       0\n"
     ]
    }
   ],
   "source": [
    "data = {\n",
    "    'class1': [1, 2, 3, 4, 7, 11],\n",
    "    'class2': [4, 5, 6, 9, 5, 0],\n",
    "    'class3': [7, 5, 8, 12, 1, 11]\n",
    "}\n",
    "\n",
    "df = pd.DataFrame(data)\n",
    "\n",
    "task_1 = df.loc[:, df.columns != 'class3']\n",
    "print(\"\\nTask 1: Select all columns, except 'class3'\")\n",
    "print(task_1)"
   ]
  },
  {
   "cell_type": "code",
   "execution_count": 5,
   "id": "ad9957d0",
   "metadata": {},
   "outputs": [
    {
     "name": "stdout",
     "output_type": "stream",
     "text": [
      "\n",
      "Task 2: Remove first 3 rows of the DataFrame\n",
      "   class1  class2  class3\n",
      "3       4       9      12\n",
      "4       7       5       1\n",
      "5      11       0      11\n"
     ]
    }
   ],
   "source": [
    "task_2 = df.iloc[3:]\n",
    "print(\"\\nTask 2: Remove first 3 rows of the DataFrame\")\n",
    "print(task_2)"
   ]
  },
  {
   "cell_type": "code",
   "execution_count": 6,
   "id": "252caf9b",
   "metadata": {},
   "outputs": [
    {
     "name": "stdout",
     "output_type": "stream",
     "text": [
      "\n",
      "Task 3: Remove last 3 rows of the DataFrame\n",
      "   class1  class2  class3\n",
      "0       1       4       7\n",
      "1       2       5       5\n",
      "2       3       6       8\n"
     ]
    }
   ],
   "source": [
    "task_3 = df.iloc[:-3]\n",
    "print(\"\\nTask 3: Remove last 3 rows of the DataFrame\")\n",
    "print(task_3)"
   ]
  },
  {
   "cell_type": "markdown",
   "id": "2877f469",
   "metadata": {},
   "source": [
    "4. Use Pandas MultiIndex method(s) to create a multi-indexing DataFrame as below:\n",
    "\n",
    "Note: you should use random number generators to mock some reasonable data such as HR (Heart Rate) and Temp (Body Temperature).\n",
    "    (1) Get all the information of Julia.    \n",
    "    (2) Get Juila's heart rate data.          \n",
    "    (3) Get Bob’s all information in 2018.         "
   ]
  },
  {
   "cell_type": "code",
   "execution_count": 7,
   "id": "8d7daefd",
   "metadata": {},
   "outputs": [
    {
     "name": "stdout",
     "output_type": "stream",
     "text": [
      "subject           Bob                 Julia                   Sue           \n",
      "type               HR       Temp         HR       Temp         HR       Temp\n",
      "year visit                                                                  \n",
      "2018 1      27.490802  39.014286  34.639879  31.973170  23.120373  23.119890\n",
      "     2      21.161672  37.323523  32.022300  34.161452  20.411690  39.398197\n",
      "2019 1      36.648853  24.246782  23.636499  23.668090  26.084845  30.495129\n",
      "     2      28.638900  25.824583  32.237058  22.789877  25.842893  27.327237\n"
     ]
    }
   ],
   "source": [
    "np.random.seed(42)\n",
    "arrays = [\n",
    "    ['Bob', 'Bob', 'Julia', 'Julia', 'Sue', 'Sue'],\n",
    "    ['HR', 'Temp', 'HR', 'Temp', 'HR', 'Temp']\n",
    "]\n",
    "\n",
    "columns = pd.MultiIndex.from_arrays(arrays, names=('subject', 'type'))\n",
    "\n",
    "index = pd.MultiIndex.from_product([[2018, 2019], [1, 2]], names=['year', 'visit'])\n",
    "\n",
    "data = np.random.rand(4, 6) * 20 + 20 \n",
    "df = pd.DataFrame(data, index=index, columns=columns)\n",
    "print(df)"
   ]
  },
  {
   "cell_type": "code",
   "execution_count": 8,
   "id": "94b7eeec",
   "metadata": {},
   "outputs": [
    {
     "name": "stdout",
     "output_type": "stream",
     "text": [
      "\n",
      "Task 1: Get all information of Julia\n",
      "subject         Julia           \n",
      "type               HR       Temp\n",
      "year visit                      \n",
      "2018 1      34.639879  31.973170\n",
      "     2      32.022300  34.161452\n",
      "2019 1      23.636499  23.668090\n",
      "     2      32.237058  22.789877\n"
     ]
    }
   ],
   "source": [
    "task_1 = df.loc[:, ('Julia', slice(None))]\n",
    "print(\"\\nTask 1: Get all information of Julia\")\n",
    "print(task_1)"
   ]
  },
  {
   "cell_type": "code",
   "execution_count": 9,
   "id": "82f70619",
   "metadata": {},
   "outputs": [
    {
     "name": "stdout",
     "output_type": "stream",
     "text": [
      "\n",
      "Task 2: Get Julia's heart rate data\n",
      "year  visit\n",
      "2018  1        34.639879\n",
      "      2        32.022300\n",
      "2019  1        23.636499\n",
      "      2        32.237058\n",
      "Name: (Julia, HR), dtype: float64\n"
     ]
    }
   ],
   "source": [
    "task_2 = df.loc[:, ('Julia', 'HR')]\n",
    "print(\"\\nTask 2: Get Julia's heart rate data\")\n",
    "print(task_2)"
   ]
  },
  {
   "cell_type": "code",
   "execution_count": 10,
   "id": "ebf9e4d5",
   "metadata": {},
   "outputs": [
    {
     "name": "stdout",
     "output_type": "stream",
     "text": [
      "\n",
      "Task 3: Get Bob’s all information in 2018\n",
      "subject           Bob           \n",
      "type               HR       Temp\n",
      "year visit                      \n",
      "2018 1      27.490802  39.014286\n",
      "     2      21.161672  37.323523\n"
     ]
    }
   ],
   "source": [
    "task_3 = df.loc[(2018, slice(None)), ('Bob', slice(None))]\n",
    "print(\"\\nTask 3: Get Bob’s all information in 2018\")\n",
    "print(task_3)"
   ]
  },
  {
   "cell_type": "markdown",
   "id": "5345206b",
   "metadata": {},
   "source": [
    "5. (1) Create a DataFrame df: the name of 4 columns is pqrs respectively, the name of 10 indexes is abcdefghij respectively. The values are randomly distributed in [1,100) and the seed is set as 42.\n",
    "\n",
    "    (2) Create a new column such that, each row of this df contains the row number of nearest row-record by Euclidean distance."
   ]
  },
  {
   "cell_type": "code",
   "execution_count": 11,
   "id": "610b50b5",
   "metadata": {},
   "outputs": [
    {
     "name": "stdout",
     "output_type": "stream",
     "text": [
      "(1): \n",
      "    p   q   r   s\n",
      "a  52  93  15  72\n",
      "b  61  21  83  87\n",
      "c  75  75  88  24\n",
      "d   3  22  53   2\n",
      "e  88  30  38   2\n",
      "f  64  60  21  33\n",
      "g  76  58  22  89\n",
      "h  49  91  59  42\n",
      "i  92  60  80  15\n",
      "j  62  62  47  62\n",
      "\n",
      " (2): \n",
      "    p   q   r   s Nearest Row\n",
      "a  52  93  15  72           g\n",
      "b  61  21  83  87           j\n",
      "c  75  75  88  24           i\n",
      "d   3  22  53   2           f\n",
      "e  88  30  38   2           f\n",
      "f  64  60  21  33           j\n",
      "g  76  58  22  89           j\n",
      "h  49  91  59  42           j\n",
      "i  92  60  80  15           c\n",
      "j  62  62  47  62           f\n"
     ]
    }
   ],
   "source": [
    "from scipy.spatial.distance import cdist\n",
    "np.random.seed(42)\n",
    "df = pd.DataFrame(np.random.randint(1, 100, size=(10, 4)), index=list(\"abcdefghij\"), columns = list('pqrs'))\n",
    "print(\"(1): \")\n",
    "print(df)\n",
    "\n",
    "distances = cdist(df.values, df.values)\n",
    "nearest_row = np.argpartition(distances, kth=1, axis=1)[:, 1]\n",
    "df['Nearest Row'] = df.index[nearest_row]\n",
    "\n",
    "print(\"\\n (2): \")\n",
    "print(df)"
   ]
  },
  {
   "cell_type": "markdown",
   "id": "5b033b8c",
   "metadata": {},
   "source": [
    "6. Create a Dataframe with rows as strides from a given series: L = pd.Series(range(15))"
   ]
  },
  {
   "cell_type": "code",
   "execution_count": 12,
   "id": "d0149893",
   "metadata": {},
   "outputs": [
    {
     "name": "stdout",
     "output_type": "stream",
     "text": [
      "    0   1   2   3\n",
      "0   0   1   2   3\n",
      "1   2   3   4   5\n",
      "2   4   5   6   7\n",
      "3   6   7   8   9\n",
      "4   8   9  10  11\n",
      "5  10  11  12  13\n"
     ]
    }
   ],
   "source": [
    "L = pd.Series(range(15))\n",
    "\n",
    "stride_length = 4\n",
    "strides = [L[i:i+stride_length].values for i in range(0, len(L) - stride_length + 1, 2)]\n",
    "df = pd.DataFrame(strides)\n",
    "\n",
    "print(df)"
   ]
  },
  {
   "cell_type": "markdown",
   "id": "37eb5f17",
   "metadata": {},
   "source": [
    "7. \n",
    "    (1) Create a DataFrame, the name of columns is abcde respectively, the values ranges [0,20)\n",
    "\n",
    "    (2) Interchange columns 'a' and 'c'\n",
    "\n",
    "    (3) Create a generic function to interchange arbitrary two columns\n",
    "\n",
    "    (4) Sort the columns in reverse alphabetical order, that is column 'e' first through column 'a' last."
   ]
  },
  {
   "cell_type": "code",
   "execution_count": 13,
   "id": "ba0e69b1",
   "metadata": {},
   "outputs": [
    {
     "name": "stdout",
     "output_type": "stream",
     "text": [
      "(1) : \n",
      "    a   b   c   d   e\n",
      "0  18  11  19   2   4\n",
      "1  18   6   8   6  17\n",
      "2   3  13  17   8   1\n",
      "3  19  14   6  11   7\n",
      "4  14   2  13  16   3\n",
      "\n",
      "(2): \n",
      "    a   b   c   d   e\n",
      "0  19  11  18   2   4\n",
      "1   8   6  18   6  17\n",
      "2  17  13   3   8   1\n",
      "3   6  14  19  11   7\n",
      "4  13   2  14  16   3\n",
      "\n",
      "(3): \n",
      "    a   b   c   d   e\n",
      "0  19   2  18  11   4\n",
      "1   8   6  18   6  17\n",
      "2  17   8   3  13   1\n",
      "3   6  11  19  14   7\n",
      "4  13  16  14   2   3\n",
      "\n",
      "(4): \n",
      "    e   d   c   b   a\n",
      "0   4  11  18   2  19\n",
      "1  17   6  18   6   8\n",
      "2   1  13   3   8  17\n",
      "3   7  14  19  11   6\n",
      "4   3   2  14  16  13\n"
     ]
    }
   ],
   "source": [
    "df = pd.DataFrame(np.random.randint(0, 20, size=(5, 5)), columns=['a', 'b', 'c', 'd', 'e'])\n",
    "\n",
    "print(\"(1) : \")\n",
    "print(df)\n",
    "\n",
    "df[['a', 'c']] = df[['c', 'a']]\n",
    "print(\"\\n(2): \")\n",
    "print(df)\n",
    "\n",
    "def interchange_col(df, col1, col2):\n",
    "    df[col1], df[col2] = df[col2].copy(), df[col1].copy()\n",
    "interchange_col(df, 'b', 'd')\n",
    "print(\"\\n(3): \")\n",
    "print(df)\n",
    "\n",
    "df = df.sort_index(axis=1, ascending=False)\n",
    "print(\"\\n(4): \")\n",
    "print(df)"
   ]
  },
  {
   "cell_type": "markdown",
   "id": "35797cf0",
   "metadata": {},
   "source": [
    "8. Create a TimeSeries starting ‘2021-01-01’ and 10 weekends (Saturdays) after that having random numbers as values.    "
   ]
  },
  {
   "cell_type": "code",
   "execution_count": 14,
   "id": "4f43afec",
   "metadata": {},
   "outputs": [
    {
     "name": "stdout",
     "output_type": "stream",
     "text": [
      "2021-01-02    50\n",
      "2021-01-09     4\n",
      "2021-01-16     2\n",
      "2021-01-23     6\n",
      "2021-01-30    54\n",
      "2021-02-06     4\n",
      "2021-02-13    54\n",
      "2021-02-20    93\n",
      "2021-02-27    63\n",
      "2021-03-06    18\n",
      "Freq: W-SAT, dtype: int32\n"
     ]
    }
   ],
   "source": [
    "date_range = pd.date_range(start='2021-01-01', periods=10, freq='W-SAT')\n",
    "\n",
    "data = np.random.randint(1, 100, size=(10,))\n",
    "time_series = pd.Series(data, index=date_range)\n",
    "\n",
    "# Display the TimeSeries\n",
    "print(time_series)"
   ]
  },
  {
   "cell_type": "markdown",
   "id": "92548f59",
   "metadata": {},
   "source": [
    "9. (1) Create a Pandas time series with missing dates (from 2021-01-01 to 2021-01-08) and values, shown as below: \n",
    "\n",
    "    (2) Make all missing dates appear and fill up with value from previous date, shown as below.  "
   ]
  },
  {
   "cell_type": "code",
   "execution_count": 15,
   "id": "bd09a1e5",
   "metadata": {},
   "outputs": [
    {
     "name": "stdout",
     "output_type": "stream",
     "text": [
      "2021-01-01     1.0\n",
      "2021-01-02     NaN\n",
      "2021-01-03    10.0\n",
      "2021-01-04     NaN\n",
      "2021-01-05     NaN\n",
      "2021-01-06     3.0\n",
      "2021-01-07     NaN\n",
      "2021-01-08     NaN\n",
      "Freq: D, dtype: float64\n",
      "\n",
      "Filled values: \n",
      "2021-01-01     1.0\n",
      "2021-01-02     1.0\n",
      "2021-01-03    10.0\n",
      "2021-01-04    10.0\n",
      "2021-01-05    10.0\n",
      "2021-01-06     3.0\n",
      "2021-01-07     3.0\n",
      "2021-01-08     3.0\n",
      "Freq: D, dtype: float64\n"
     ]
    }
   ],
   "source": [
    "date_range = pd.date_range(start='2021-01-01', end='2021-01-08', freq='D')\n",
    "\n",
    "time_series = pd.Series(index=date_range)\n",
    "\n",
    "time_series['2021-01-01'] = 1.0\n",
    "time_series['2021-01-03'] = 10.0\n",
    "time_series['2021-01-06'] = 3.0\n",
    "print(time_series)\n",
    "\n",
    "time_filled = time_series.fillna(method='ffill')\n",
    "print(\"\\nFilled values: \") \n",
    "print(time_filled)"
   ]
  },
  {
   "cell_type": "markdown",
   "id": "1271e730",
   "metadata": {},
   "source": [
    "10. (1) Create a DataFrame ‘df’: the indexes are integer from 0 to 8 (9 rows); the columns are ‘fruit’, ‘taste’, ‘price’; the items of ‘fruit’ are: apple, banana, orange, respectively and repeating 3 times. The ‘taste’ ranges [0,1). The price is integer and ranges [1, 15). The seed of random values is set as 100.\n",
    "\n",
    "    (2) Find the second largest value of 'taste' for 'banana' (Hint: you can use groupby) \n",
    "    \n",
    "    (3) Compute the mean price of every fruit, while keeping the fruit as another column instead of an index. "
   ]
  },
  {
   "cell_type": "code",
   "execution_count": 16,
   "id": "258c3028",
   "metadata": {},
   "outputs": [
    {
     "name": "stdout",
     "output_type": "stream",
     "text": [
      "(1) DataFrame: \n",
      "    fruit     taste  price\n",
      "0   apple  0.543405      9\n",
      "1   apple  0.278369      5\n",
      "2   apple  0.424518     12\n",
      "3  banana  0.844776     13\n",
      "4  banana  0.004719     11\n",
      "5  banana  0.121569      1\n",
      "6  orange  0.670749     12\n",
      "7  orange  0.825853     10\n",
      "8  orange  0.136707     14\n",
      "\n",
      "(2) Second largest value of taste for banana:  0.12156912078311422\n",
      "\n",
      "(3) Mean price of every fruit: \n",
      "    fruit      price\n",
      "0   apple   8.666667\n",
      "1  banana   8.333333\n",
      "2  orange  12.000000\n"
     ]
    }
   ],
   "source": [
    "np.random.seed(100)\n",
    "\n",
    "data = {\n",
    "    'fruit': np.repeat(['apple', 'banana', 'orange'], 3),\n",
    "    'taste': np.random.rand(9),\n",
    "    'price': np.random.randint(1, 15, size=9)\n",
    "}\n",
    "\n",
    "df = pd.DataFrame(data, index=range(9))\n",
    "print(\"(1) DataFrame: \")\n",
    "print(df)\n",
    "\n",
    "banana_taste = df[df['fruit'] == 'banana']['taste'].nlargest(2).iloc[-1]\n",
    "print(\"\\n(2) Second largest value of taste for banana: \", banana_taste)\n",
    "\n",
    "mean_price = df.groupby('fruit')['price'].mean().reset_index()\n",
    "print(\"\\n(3) Mean price of every fruit: \")\n",
    "print(mean_price)"
   ]
  },
  {
   "cell_type": "markdown",
   "id": "8262d335",
   "metadata": {},
   "source": [
    "11. (1) Create a df, for the values [0,100) with a seed 1, its shape is (8,10).\n",
    "\n",
    "    (2) Create a new column with the name 'largest2nd', which has the second largest value of each row of df.   "
   ]
  },
  {
   "cell_type": "code",
   "execution_count": 17,
   "id": "c2e97590",
   "metadata": {},
   "outputs": [
    {
     "name": "stdout",
     "output_type": "stream",
     "text": [
      "(1) df: \n",
      "    0   1   2   3   4   5   6   7   8   9\n",
      "0  37  12  72   9  75   5  79  64  16   1\n",
      "1  76  71   6  25  50  20  18  84  11  28\n",
      "2  29  14  50  68  87  87  94  96  86  13\n",
      "3   9   7  63  61  22  57   1   0  60  81\n",
      "4   8  88  13  47  72  30  71   3  70  21\n",
      "5  49  57   3  68  24  43  76  26  52  80\n",
      "6  41  82  15  64  68  25  98  87   7  26\n",
      "7  25  22   9  67  23  27  37  57  83  38\n",
      "\n",
      "(2) Second largest value of each row: \n",
      "    0   1   2   3   4   5   6   7   8   9  largest2nd\n",
      "0  37  12  72   9  75   5  79  64  16   1          75\n",
      "1  76  71   6  25  50  20  18  84  11  28          76\n",
      "2  29  14  50  68  87  87  94  96  86  13          94\n",
      "3   9   7  63  61  22  57   1   0  60  81          63\n",
      "4   8  88  13  47  72  30  71   3  70  21          72\n",
      "5  49  57   3  68  24  43  76  26  52  80          76\n",
      "6  41  82  15  64  68  25  98  87   7  26          87\n",
      "7  25  22   9  67  23  27  37  57  83  38          67\n"
     ]
    }
   ],
   "source": [
    "np.random.seed(1)\n",
    "df = pd.DataFrame(np.random.randint(0, 100, size=(8,10)))\n",
    "print(\"(1) df: \")\n",
    "print(df)\n",
    "\n",
    "df['largest2nd'] = df.apply(lambda row: row.nlargest(2).iloc[-1], axis=1)\n",
    "print(\"\\n(2) Second largest value of each row: \")\n",
    "print(df)"
   ]
  },
  {
   "cell_type": "markdown",
   "id": "1ac881b3",
   "metadata": {},
   "source": [
    "12.  For the same df created in Question 11-(1), use Pandas ufuncs to normalize all columns of df by subtracting the column mean and divide by standard deviation and keep the result within two decimal places."
   ]
  },
  {
   "cell_type": "code",
   "execution_count": 18,
   "id": "2f7142c4",
   "metadata": {},
   "outputs": [
    {
     "name": "stdout",
     "output_type": "stream",
     "text": [
      "\n",
      "Normalized DataFrame:\n",
      "      0     1     2     3     4     5     6     7     8     9\n",
      "0  0.12 -0.95  1.54 -1.87  0.84 -1.25  0.55  0.31 -0.99 -1.18\n",
      "1  1.88  0.79 -0.82 -1.16 -0.10 -0.66 -1.14  0.84 -1.14 -0.27\n",
      "2 -0.24 -0.89  0.75  0.75  1.29  1.97  0.96  1.15  1.17 -0.78\n",
      "3 -1.14 -1.09  1.22  0.44 -1.15  0.80 -1.61 -1.37  0.37  1.52\n",
      "4 -1.18  1.29 -0.57 -0.18  0.73 -0.27  0.33 -1.29  0.67 -0.51\n",
      "5  0.66  0.38 -0.92  0.75 -1.08  0.25  0.46 -0.69  0.12  1.49\n",
      "6  0.30  1.12 -0.49  0.57  0.58 -0.46  1.07  0.92 -1.27 -0.34\n",
      "7 -0.42 -0.65 -0.71  0.70 -1.12 -0.38 -0.62  0.13  1.07  0.07\n"
     ]
    }
   ],
   "source": [
    "np.random.seed(1)\n",
    "df = pd.DataFrame(np.random.randint(0, 100, size=(8,10)))\n",
    "normalized_df = (df - df.mean()) / df.std()\n",
    "\n",
    "normalized_df = normalized_df.round(2)\n",
    "\n",
    "print(\"\\nNormalized DataFrame:\")\n",
    "print(normalized_df)"
   ]
  },
  {
   "cell_type": "markdown",
   "id": "220683f5",
   "metadata": {},
   "source": [
    "13. Use the Planets dataset (taught in Pandas 4 lecture regarding groupby), count discovered planets by method and by decade:\n",
    "Note: all NaN will be replaced by 0."
   ]
  },
  {
   "cell_type": "code",
   "execution_count": 19,
   "id": "5a336548",
   "metadata": {},
   "outputs": [
    {
     "name": "stdout",
     "output_type": "stream",
     "text": [
      "decade                         1980  1990   2000   2010\n",
      "method                                                 \n",
      "Astrometry                      0.0   0.0    0.0    2.0\n",
      "Eclipse Timing Variations       0.0   0.0    3.0    6.0\n",
      "Imaging                         0.0   0.0   20.0   18.0\n",
      "Microlensing                    0.0   0.0   10.0   13.0\n",
      "Orbital Brightness Modulation   0.0   0.0    0.0    3.0\n",
      "Pulsar Timing                   0.0   3.0    1.0    1.0\n",
      "Pulsation Timing Variations     0.0   0.0    1.0    0.0\n",
      "Radial Velocity                 1.0  28.0  309.0  215.0\n",
      "Transit                         0.0   0.0   62.0  335.0\n",
      "Transit Timing Variations       0.0   0.0    0.0    4.0\n"
     ]
    }
   ],
   "source": [
    "import seaborn as sns\n",
    "planets = sns.load_dataset('planets')\n",
    "\n",
    "planets['decade'] = (planets['year'] // 10) * 10\n",
    "\n",
    "result = planets.groupby(['method', 'decade']).size().unstack().fillna(0)\n",
    "\n",
    "print(result)"
   ]
  }
 ],
 "metadata": {
  "kernelspec": {
   "display_name": "Python 3 (ipykernel)",
   "language": "python",
   "name": "python3"
  },
  "language_info": {
   "codemirror_mode": {
    "name": "ipython",
    "version": 3
   },
   "file_extension": ".py",
   "mimetype": "text/x-python",
   "name": "python",
   "nbconvert_exporter": "python",
   "pygments_lexer": "ipython3",
   "version": "3.11.5"
  }
 },
 "nbformat": 4,
 "nbformat_minor": 5
}
